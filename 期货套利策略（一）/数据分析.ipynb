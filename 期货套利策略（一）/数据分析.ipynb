{
 "cells": [
  {
   "cell_type": "code",
   "execution_count": 73,
   "metadata": {},
   "outputs": [],
   "source": [
    "import pandas as pd\n",
    "import numpy as np\n",
    "import matplotlib.pyplot as plt\n",
    "import warnings\n",
    "from mpl_finance import candlestick_ochl\n",
    "import statsmodels.tsa.stattools as ts\n",
    "from statsmodels.tsa.stattools import coint\n",
    "\n",
    "warnings.filterwarnings(\"ignore\")\n",
    "%matplotlib inline"
   ]
  },
  {
   "cell_type": "code",
   "execution_count": 5,
   "metadata": {},
   "outputs": [],
   "source": [
    "df1 = pd.read_csv('cu1901.csv')\n",
    "df2 = pd.read_csv('cu1902.csv')"
   ]
  },
  {
   "cell_type": "code",
   "execution_count": 1,
   "metadata": {},
   "outputs": [
    {
     "ename": "NameError",
     "evalue": "name 'df1' is not defined",
     "output_type": "error",
     "traceback": [
      "\u001b[1;31m---------------------------------------------------------------------------\u001b[0m",
      "\u001b[1;31mNameError\u001b[0m                                 Traceback (most recent call last)",
      "\u001b[1;32m<ipython-input-1-b00abbab12e3>\u001b[0m in \u001b[0;36m<module>\u001b[1;34m\u001b[0m\n\u001b[1;32m----> 1\u001b[1;33m \u001b[0mdf\u001b[0m \u001b[1;33m=\u001b[0m \u001b[0mdf1\u001b[0m\u001b[1;33m.\u001b[0m\u001b[0mmerge\u001b[0m\u001b[1;33m(\u001b[0m\u001b[0mdf2\u001b[0m\u001b[1;33m,\u001b[0m \u001b[0mhow\u001b[0m\u001b[1;33m=\u001b[0m\u001b[1;34m'outer'\u001b[0m\u001b[1;33m,\u001b[0m \u001b[0mon\u001b[0m\u001b[1;33m=\u001b[0m\u001b[1;34m'datetime'\u001b[0m\u001b[1;33m)\u001b[0m\u001b[1;33m\u001b[0m\u001b[1;33m\u001b[0m\u001b[0m\n\u001b[0m",
      "\u001b[1;31mNameError\u001b[0m: name 'df1' is not defined"
     ]
    }
   ],
   "source": [
    "df = df1.merge(df2, how='outer', on='datetime')"
   ]
  },
  {
   "cell_type": "code",
   "execution_count": 2,
   "metadata": {},
   "outputs": [
    {
     "ename": "NameError",
     "evalue": "name 'df' is not defined",
     "output_type": "error",
     "traceback": [
      "\u001b[1;31m---------------------------------------------------------------------------\u001b[0m",
      "\u001b[1;31mNameError\u001b[0m                                 Traceback (most recent call last)",
      "\u001b[1;32m<ipython-input-2-c64f9f573c18>\u001b[0m in \u001b[0;36m<module>\u001b[1;34m\u001b[0m\n\u001b[1;32m----> 1\u001b[1;33m \u001b[0mdf\u001b[0m\u001b[1;33m.\u001b[0m\u001b[0mdropna\u001b[0m\u001b[1;33m(\u001b[0m\u001b[0minplace\u001b[0m\u001b[1;33m=\u001b[0m\u001b[1;32mTrue\u001b[0m\u001b[1;33m)\u001b[0m\u001b[1;33m\u001b[0m\u001b[1;33m\u001b[0m\u001b[0m\n\u001b[0m",
      "\u001b[1;31mNameError\u001b[0m: name 'df' is not defined"
     ]
    }
   ],
   "source": [
    "df.dropna(inplace=True)"
   ]
  },
  {
   "cell_type": "code",
   "execution_count": 48,
   "metadata": {},
   "outputs": [
    {
     "data": {
      "text/plain": [
       "1826    2018-02-13 00:00:00.000000000\n",
       "1827    2018-02-13 00:05:00.000000000\n",
       "1828    2018-02-13 00:10:00.000000000\n",
       "1829    2018-02-13 00:15:00.000000000\n",
       "1830    2018-02-13 00:20:00.000000000\n",
       "                    ...              \n",
       "1914    2018-02-13 23:35:00.000000000\n",
       "1915    2018-02-13 23:40:00.000000000\n",
       "1916    2018-02-13 23:45:00.000000000\n",
       "1917    2018-02-13 23:50:00.000000000\n",
       "1918    2018-02-13 23:55:00.000000000\n",
       "Name: datetime, Length: 93, dtype: object"
      ]
     },
     "execution_count": 48,
     "metadata": {},
     "output_type": "execute_result"
    }
   ],
   "source": [
    "df['datetime'].iloc[71:164]"
   ]
  },
  {
   "cell_type": "code",
   "execution_count": 13,
   "metadata": {},
   "outputs": [
    {
     "data": {
      "text/html": [
       "<div>\n",
       "<style scoped>\n",
       "    .dataframe tbody tr th:only-of-type {\n",
       "        vertical-align: middle;\n",
       "    }\n",
       "\n",
       "    .dataframe tbody tr th {\n",
       "        vertical-align: top;\n",
       "    }\n",
       "\n",
       "    .dataframe thead th {\n",
       "        text-align: right;\n",
       "    }\n",
       "</style>\n",
       "<table border=\"1\" class=\"dataframe\">\n",
       "  <thead>\n",
       "    <tr style=\"text-align: right;\">\n",
       "      <th></th>\n",
       "      <th>datetime</th>\n",
       "      <th>SHFE.cu1901.open</th>\n",
       "      <th>SHFE.cu1901.high</th>\n",
       "      <th>SHFE.cu1901.low</th>\n",
       "      <th>SHFE.cu1901.close</th>\n",
       "      <th>SHFE.cu1901.volume</th>\n",
       "      <th>SHFE.cu1901.open_oi</th>\n",
       "      <th>SHFE.cu1901.close_oi</th>\n",
       "      <th>SHFE.cu1902.open</th>\n",
       "      <th>SHFE.cu1902.high</th>\n",
       "      <th>SHFE.cu1902.low</th>\n",
       "      <th>SHFE.cu1902.close</th>\n",
       "      <th>SHFE.cu1902.volume</th>\n",
       "      <th>SHFE.cu1902.open_oi</th>\n",
       "      <th>SHFE.cu1902.close_oi</th>\n",
       "    </tr>\n",
       "  </thead>\n",
       "  <tbody>\n",
       "    <tr>\n",
       "      <th>1755</th>\n",
       "      <td>2018-02-12 09:50:00.000000000</td>\n",
       "      <td>52950.0</td>\n",
       "      <td>52950.0</td>\n",
       "      <td>52950.0</td>\n",
       "      <td>52950.0</td>\n",
       "      <td>0.0</td>\n",
       "      <td>473.0</td>\n",
       "      <td>473.0</td>\n",
       "      <td>53270.0</td>\n",
       "      <td>53270.0</td>\n",
       "      <td>53270.0</td>\n",
       "      <td>53270.0</td>\n",
       "      <td>1.0</td>\n",
       "      <td>0.0</td>\n",
       "      <td>1.0</td>\n",
       "    </tr>\n",
       "    <tr>\n",
       "      <th>1756</th>\n",
       "      <td>2018-02-12 09:55:00.000000000</td>\n",
       "      <td>52950.0</td>\n",
       "      <td>52950.0</td>\n",
       "      <td>52950.0</td>\n",
       "      <td>52950.0</td>\n",
       "      <td>0.0</td>\n",
       "      <td>473.0</td>\n",
       "      <td>473.0</td>\n",
       "      <td>53270.0</td>\n",
       "      <td>53270.0</td>\n",
       "      <td>53270.0</td>\n",
       "      <td>53270.0</td>\n",
       "      <td>0.0</td>\n",
       "      <td>1.0</td>\n",
       "      <td>1.0</td>\n",
       "    </tr>\n",
       "    <tr>\n",
       "      <th>1757</th>\n",
       "      <td>2018-02-12 10:00:00.000000000</td>\n",
       "      <td>52950.0</td>\n",
       "      <td>52950.0</td>\n",
       "      <td>52950.0</td>\n",
       "      <td>52950.0</td>\n",
       "      <td>0.0</td>\n",
       "      <td>473.0</td>\n",
       "      <td>473.0</td>\n",
       "      <td>53270.0</td>\n",
       "      <td>53270.0</td>\n",
       "      <td>53270.0</td>\n",
       "      <td>53270.0</td>\n",
       "      <td>0.0</td>\n",
       "      <td>1.0</td>\n",
       "      <td>1.0</td>\n",
       "    </tr>\n",
       "    <tr>\n",
       "      <th>1758</th>\n",
       "      <td>2018-02-12 10:05:00.000000000</td>\n",
       "      <td>52950.0</td>\n",
       "      <td>52950.0</td>\n",
       "      <td>52950.0</td>\n",
       "      <td>52950.0</td>\n",
       "      <td>0.0</td>\n",
       "      <td>473.0</td>\n",
       "      <td>473.0</td>\n",
       "      <td>53270.0</td>\n",
       "      <td>53270.0</td>\n",
       "      <td>53270.0</td>\n",
       "      <td>53270.0</td>\n",
       "      <td>0.0</td>\n",
       "      <td>1.0</td>\n",
       "      <td>1.0</td>\n",
       "    </tr>\n",
       "    <tr>\n",
       "      <th>1759</th>\n",
       "      <td>2018-02-12 10:10:00.000000000</td>\n",
       "      <td>52950.0</td>\n",
       "      <td>52950.0</td>\n",
       "      <td>52950.0</td>\n",
       "      <td>52950.0</td>\n",
       "      <td>0.0</td>\n",
       "      <td>473.0</td>\n",
       "      <td>473.0</td>\n",
       "      <td>53270.0</td>\n",
       "      <td>53270.0</td>\n",
       "      <td>53270.0</td>\n",
       "      <td>53270.0</td>\n",
       "      <td>0.0</td>\n",
       "      <td>1.0</td>\n",
       "      <td>1.0</td>\n",
       "    </tr>\n",
       "    <tr>\n",
       "      <th>...</th>\n",
       "      <td>...</td>\n",
       "      <td>...</td>\n",
       "      <td>...</td>\n",
       "      <td>...</td>\n",
       "      <td>...</td>\n",
       "      <td>...</td>\n",
       "      <td>...</td>\n",
       "      <td>...</td>\n",
       "      <td>...</td>\n",
       "      <td>...</td>\n",
       "      <td>...</td>\n",
       "      <td>...</td>\n",
       "      <td>...</td>\n",
       "      <td>...</td>\n",
       "      <td>...</td>\n",
       "    </tr>\n",
       "    <tr>\n",
       "      <th>22188</th>\n",
       "      <td>2019-01-15 14:35:00.000000000</td>\n",
       "      <td>46940.0</td>\n",
       "      <td>46940.0</td>\n",
       "      <td>46940.0</td>\n",
       "      <td>46940.0</td>\n",
       "      <td>5.0</td>\n",
       "      <td>1075.0</td>\n",
       "      <td>1075.0</td>\n",
       "      <td>46970.0</td>\n",
       "      <td>47000.0</td>\n",
       "      <td>46970.0</td>\n",
       "      <td>46980.0</td>\n",
       "      <td>499.0</td>\n",
       "      <td>55823.0</td>\n",
       "      <td>55874.0</td>\n",
       "    </tr>\n",
       "    <tr>\n",
       "      <th>22189</th>\n",
       "      <td>2019-01-15 14:40:00.000000000</td>\n",
       "      <td>46940.0</td>\n",
       "      <td>46940.0</td>\n",
       "      <td>46940.0</td>\n",
       "      <td>46940.0</td>\n",
       "      <td>0.0</td>\n",
       "      <td>1075.0</td>\n",
       "      <td>1075.0</td>\n",
       "      <td>46980.0</td>\n",
       "      <td>47010.0</td>\n",
       "      <td>46970.0</td>\n",
       "      <td>46990.0</td>\n",
       "      <td>877.0</td>\n",
       "      <td>55874.0</td>\n",
       "      <td>55762.0</td>\n",
       "    </tr>\n",
       "    <tr>\n",
       "      <th>22190</th>\n",
       "      <td>2019-01-15 14:45:00.000000000</td>\n",
       "      <td>46940.0</td>\n",
       "      <td>46940.0</td>\n",
       "      <td>46940.0</td>\n",
       "      <td>46940.0</td>\n",
       "      <td>0.0</td>\n",
       "      <td>1075.0</td>\n",
       "      <td>1075.0</td>\n",
       "      <td>46990.0</td>\n",
       "      <td>47000.0</td>\n",
       "      <td>46980.0</td>\n",
       "      <td>47000.0</td>\n",
       "      <td>208.0</td>\n",
       "      <td>55762.0</td>\n",
       "      <td>55806.0</td>\n",
       "    </tr>\n",
       "    <tr>\n",
       "      <th>22191</th>\n",
       "      <td>2019-01-15 14:50:00.000000000</td>\n",
       "      <td>46940.0</td>\n",
       "      <td>46940.0</td>\n",
       "      <td>46940.0</td>\n",
       "      <td>46940.0</td>\n",
       "      <td>0.0</td>\n",
       "      <td>1075.0</td>\n",
       "      <td>1075.0</td>\n",
       "      <td>47000.0</td>\n",
       "      <td>47000.0</td>\n",
       "      <td>46980.0</td>\n",
       "      <td>46980.0</td>\n",
       "      <td>186.0</td>\n",
       "      <td>55806.0</td>\n",
       "      <td>55755.0</td>\n",
       "    </tr>\n",
       "    <tr>\n",
       "      <th>22192</th>\n",
       "      <td>2019-01-15 14:55:00.000000000</td>\n",
       "      <td>46940.0</td>\n",
       "      <td>46940.0</td>\n",
       "      <td>46940.0</td>\n",
       "      <td>46940.0</td>\n",
       "      <td>0.0</td>\n",
       "      <td>1075.0</td>\n",
       "      <td>1075.0</td>\n",
       "      <td>46980.0</td>\n",
       "      <td>47000.0</td>\n",
       "      <td>46970.0</td>\n",
       "      <td>46990.0</td>\n",
       "      <td>732.0</td>\n",
       "      <td>55755.0</td>\n",
       "      <td>55677.0</td>\n",
       "    </tr>\n",
       "  </tbody>\n",
       "</table>\n",
       "<p>20438 rows × 15 columns</p>\n",
       "</div>"
      ],
      "text/plain": [
       "                            datetime  SHFE.cu1901.open  SHFE.cu1901.high  \\\n",
       "1755   2018-02-12 09:50:00.000000000           52950.0           52950.0   \n",
       "1756   2018-02-12 09:55:00.000000000           52950.0           52950.0   \n",
       "1757   2018-02-12 10:00:00.000000000           52950.0           52950.0   \n",
       "1758   2018-02-12 10:05:00.000000000           52950.0           52950.0   \n",
       "1759   2018-02-12 10:10:00.000000000           52950.0           52950.0   \n",
       "...                              ...               ...               ...   \n",
       "22188  2019-01-15 14:35:00.000000000           46940.0           46940.0   \n",
       "22189  2019-01-15 14:40:00.000000000           46940.0           46940.0   \n",
       "22190  2019-01-15 14:45:00.000000000           46940.0           46940.0   \n",
       "22191  2019-01-15 14:50:00.000000000           46940.0           46940.0   \n",
       "22192  2019-01-15 14:55:00.000000000           46940.0           46940.0   \n",
       "\n",
       "       SHFE.cu1901.low  SHFE.cu1901.close  SHFE.cu1901.volume  \\\n",
       "1755           52950.0            52950.0                 0.0   \n",
       "1756           52950.0            52950.0                 0.0   \n",
       "1757           52950.0            52950.0                 0.0   \n",
       "1758           52950.0            52950.0                 0.0   \n",
       "1759           52950.0            52950.0                 0.0   \n",
       "...                ...                ...                 ...   \n",
       "22188          46940.0            46940.0                 5.0   \n",
       "22189          46940.0            46940.0                 0.0   \n",
       "22190          46940.0            46940.0                 0.0   \n",
       "22191          46940.0            46940.0                 0.0   \n",
       "22192          46940.0            46940.0                 0.0   \n",
       "\n",
       "       SHFE.cu1901.open_oi  SHFE.cu1901.close_oi  SHFE.cu1902.open  \\\n",
       "1755                 473.0                 473.0           53270.0   \n",
       "1756                 473.0                 473.0           53270.0   \n",
       "1757                 473.0                 473.0           53270.0   \n",
       "1758                 473.0                 473.0           53270.0   \n",
       "1759                 473.0                 473.0           53270.0   \n",
       "...                    ...                   ...               ...   \n",
       "22188               1075.0                1075.0           46970.0   \n",
       "22189               1075.0                1075.0           46980.0   \n",
       "22190               1075.0                1075.0           46990.0   \n",
       "22191               1075.0                1075.0           47000.0   \n",
       "22192               1075.0                1075.0           46980.0   \n",
       "\n",
       "       SHFE.cu1902.high  SHFE.cu1902.low  SHFE.cu1902.close  \\\n",
       "1755            53270.0          53270.0            53270.0   \n",
       "1756            53270.0          53270.0            53270.0   \n",
       "1757            53270.0          53270.0            53270.0   \n",
       "1758            53270.0          53270.0            53270.0   \n",
       "1759            53270.0          53270.0            53270.0   \n",
       "...                 ...              ...                ...   \n",
       "22188           47000.0          46970.0            46980.0   \n",
       "22189           47010.0          46970.0            46990.0   \n",
       "22190           47000.0          46980.0            47000.0   \n",
       "22191           47000.0          46980.0            46980.0   \n",
       "22192           47000.0          46970.0            46990.0   \n",
       "\n",
       "       SHFE.cu1902.volume  SHFE.cu1902.open_oi  SHFE.cu1902.close_oi  \n",
       "1755                  1.0                  0.0                   1.0  \n",
       "1756                  0.0                  1.0                   1.0  \n",
       "1757                  0.0                  1.0                   1.0  \n",
       "1758                  0.0                  1.0                   1.0  \n",
       "1759                  0.0                  1.0                   1.0  \n",
       "...                   ...                  ...                   ...  \n",
       "22188               499.0              55823.0               55874.0  \n",
       "22189               877.0              55874.0               55762.0  \n",
       "22190               208.0              55762.0               55806.0  \n",
       "22191               186.0              55806.0               55755.0  \n",
       "22192               732.0              55755.0               55677.0  \n",
       "\n",
       "[20438 rows x 15 columns]"
      ]
     },
     "execution_count": 13,
     "metadata": {},
     "output_type": "execute_result"
    }
   ],
   "source": [
    "df"
   ]
  },
  {
   "cell_type": "code",
   "execution_count": 96,
   "metadata": {},
   "outputs": [
    {
     "data": {
      "text/plain": [
       "[<matplotlib.lines.Line2D at 0x1cf17ff8d30>]"
      ]
     },
     "execution_count": 96,
     "metadata": {},
     "output_type": "execute_result"
    },
    {
     "data": {
      "image/png": "[encoded data removed]",
      "text/plain": [
       "<Figure size 720x432 with 2 Axes>"
      ]
     },
     "metadata": {
      "needs_background": "light"
     },
     "output_type": "display_data"
    }
   ],
   "source": [
    "plt.figure(figsize=(10,6))\n",
    "plt.subplot(2, 1, 1) # \n",
    "plt.plot(df['SHFE.cu1901.close'])\n",
    "# plt.title('SHFE.cu1901.close')\n",
    "plt.subplot(2, 1, 2) # , figsize=(8,3)\n",
    "plt.plot(df['SHFE.cu1902.close'])\n",
    "# plt.title('SHFE.cu1902.close')"
   ]
  },
  {
   "cell_type": "code",
   "execution_count": 99,
   "metadata": {},
   "outputs": [
    {
     "data": {
      "text/plain": [
       "[<matplotlib.lines.Line2D at 0x1cf18dcba58>]"
      ]
     },
     "execution_count": 99,
     "metadata": {},
     "output_type": "execute_result"
    },
    {
     "data": {
      "image/png": "[encoded data removed]",
      "text/plain": [
       "<Figure size 720x432 with 2 Axes>"
      ]
     },
     "metadata": {
      "needs_background": "light"
     },
     "output_type": "display_data"
    }
   ],
   "source": [
    "plt.figure(figsize=(10,6))\n",
    "plt.subplot(2, 1, 1) # \n",
    "plt.plot(np.diff(df['SHFE.cu1901.close']))\n",
    "# plt.title('SHFE.cu1901.close')\n",
    "plt.subplot(2, 1, 2) # , figsize=(8,3)\n",
    "plt.plot(np.diff(df['SHFE.cu1902.close']))\n",
    "# plt.title('SHFE.cu1902.close')"
   ]
  },
  {
   "cell_type": "code",
   "execution_count": 31,
   "metadata": {},
   "outputs": [],
   "source": [
    "df['diff'] = df['SHFE.cu1901.close'] - df['SHFE.cu1902.close']"
   ]
  },
  {
   "cell_type": "code",
   "execution_count": 97,
   "metadata": {},
   "outputs": [
    {
     "data": {
      "image/png": "[encoded data removed]",
      "text/plain": [
       "<Figure size 720x216 with 1 Axes>"
      ]
     },
     "metadata": {
      "needs_background": "light"
     },
     "output_type": "display_data"
    }
   ],
   "source": [
    "plt.figure(figsize=(10,3))\n",
    "plt.plot(df['diff'])\n",
    "plt.show()"
   ]
  },
  {
   "cell_type": "code",
   "execution_count": 78,
   "metadata": {},
   "outputs": [
    {
     "data": {
      "text/plain": [
       "6.922455057721147e-17"
      ]
     },
     "execution_count": 78,
     "metadata": {},
     "output_type": "execute_result"
    }
   ],
   "source": [
    "# ts.adfuller(np.diff(df['SHFE.cu1901.close'][1:1000]),1)[1]\n",
    "coint(df['SHFE.cu1901.close'][1:1000], df['SHFE.cu1902.close'][1:1000])[1]"
   ]
  },
  {
   "cell_type": "code",
   "execution_count": 79,
   "metadata": {},
   "outputs": [],
   "source": [
    "# 协整检验的函数\n",
    "def cointegration_test(series01, series02):\n",
    "    p1 = ts.adfuller(series01, 1)[1]\n",
    "    p2 = ts.adfuller(series01, 1)[1]\n",
    "    # 同时平稳或不平稳则差分再次检验\n",
    "    if (p1 > 0.1 and p2 > 0.1) or (p1 < 0.1 and p2 < 0.1):\n",
    "        p1_diff = ts.adfuller(np.diff(series01), 1)[1]\n",
    "        p2_diff = ts.adfuller(np.diff(series02), 1)[1]\n",
    "        # 同时差分平稳进行OLS回归的残差平稳检验\n",
    "        if p1_diff < 0.1 and p2_diff < 0.1:\n",
    "            \n",
    "            if coint(series01, series02)[1] > 0.1:\n",
    "                result = False\n",
    "            else:\n",
    "                result = True\n",
    "            return result\n",
    "        else:\n",
    "            return False\n",
    "    else:\n",
    "        return False"
   ]
  },
  {
   "cell_type": "code",
   "execution_count": 80,
   "metadata": {},
   "outputs": [],
   "source": [
    "result = cointegration_test(np.array(df['SHFE.cu1901.close']), np.array(df['SHFE.cu1902.close']))"
   ]
  },
  {
   "cell_type": "code",
   "execution_count": 81,
   "metadata": {},
   "outputs": [
    {
     "data": {
      "text/plain": [
       "True"
      ]
     },
     "execution_count": 81,
     "metadata": {},
     "output_type": "execute_result"
    }
   ],
   "source": [
    "result"
   ]
  },
  {
   "cell_type": "code",
   "execution_count": 90,
   "metadata": {},
   "outputs": [],
   "source": [
    "# mean = np.mean(df['diff'])\n",
    "up = np.percentile(df['diff'],75)\n",
    "up_limit =np.percentile(df['diff'],95)\n",
    "down = np.percentile(df['diff'],25)\n",
    "down_limit = np.percentile(df['diff'],5)"
   ]
  },
  {
   "cell_type": "code",
   "execution_count": 94,
   "metadata": {},
   "outputs": [
    {
     "data": {
      "text/plain": [
       "-10.0"
      ]
     },
     "execution_count": 94,
     "metadata": {},
     "output_type": "execute_result"
    }
   ],
   "source": [
    "up"
   ]
  },
  {
   "cell_type": "code",
   "execution_count": 68,
   "metadata": {},
   "outputs": [
    {
     "data": {
      "text/plain": [
       "-55.803330998118"
      ]
     },
     "execution_count": 68,
     "metadata": {},
     "output_type": "execute_result"
    }
   ],
   "source": [
    "down"
   ]
  },
  {
   "cell_type": "code",
   "execution_count": 69,
   "metadata": {},
   "outputs": [
    {
     "data": {
      "text/plain": [
       "-4.417977981799409e-12"
      ]
     },
     "execution_count": 69,
     "metadata": {},
     "output_type": "execute_result"
    }
   ],
   "source": [
    "mean"
   ]
  },
  {
   "cell_type": "code",
   "execution_count": null,
   "metadata": {},
   "outputs": [],
   "source": []
  }
 ],
 "metadata": {
  "kernelspec": {
   "display_name": "Python 3",
   "language": "python",
   "name": "python3"
  },
  "language_info": {
   "codemirror_mode": {
    "name": "ipython",
    "version": 3
   },
   "file_extension": ".py",
   "mimetype": "text/x-python",
   "name": "python",
   "nbconvert_exporter": "python",
   "pygments_lexer": "ipython3",
   "version": "3.7.1"
  }
 },
 "nbformat": 4,
 "nbformat_minor": 4
}
